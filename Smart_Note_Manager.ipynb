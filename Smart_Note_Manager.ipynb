{
 "cells": [
  {
   "cell_type": "code",
   "execution_count": 32,
   "id": "9f0ab5e9-9615-470d-962e-8584f8072479",
   "metadata": {},
   "outputs": [
    {
     "name": "stdout",
     "output_type": "stream",
     "text": [
      "Requirement already satisfied: pandas in c:\\users\\ope\\anaconda3\\lib\\site-packages (2.2.2)\n",
      "Requirement already satisfied: numpy>=1.26.0 in c:\\users\\ope\\anaconda3\\lib\\site-packages (from pandas) (1.26.4)\n",
      "Requirement already satisfied: python-dateutil>=2.8.2 in c:\\users\\ope\\anaconda3\\lib\\site-packages (from pandas) (2.9.0.post0)\n",
      "Requirement already satisfied: pytz>=2020.1 in c:\\users\\ope\\anaconda3\\lib\\site-packages (from pandas) (2024.1)\n",
      "Requirement already satisfied: tzdata>=2022.7 in c:\\users\\ope\\anaconda3\\lib\\site-packages (from pandas) (2023.3)\n",
      "Requirement already satisfied: six>=1.5 in c:\\users\\ope\\anaconda3\\lib\\site-packages (from python-dateutil>=2.8.2->pandas) (1.16.0)\n",
      "Note: you may need to restart the kernel to use updated packages.\n"
     ]
    }
   ],
   "source": [
    "pip install pandas\n"
   ]
  },
  {
   "cell_type": "markdown",
   "id": "3fe0d567-3ee9-4082-8ece-576c7c2999c9",
   "metadata": {},
   "source": [
    "# Task: Build a Smart Notes Manager \n",
    "The task is to build a Smart Notes Manager that can help users to create, organize, and manage different types of notes.\n",
    "\n"
   ]
  },
  {
   "cell_type": "code",
   "execution_count": 34,
   "id": "7369b763-016c-4e49-a086-2a1e66aa403a",
   "metadata": {},
   "outputs": [],
   "source": [
    "from datetime import datetime  # For handling timestamps"
   ]
  },
  {
   "cell_type": "code",
   "execution_count": 35,
   "id": "6f9e0a82-5d85-4bae-92ba-2d3527e46cd3",
   "metadata": {},
   "outputs": [],
   "source": [
    "class Note:\n",
    "    def __init__(self, content):\n",
    "        \"\"\"\n",
    "        Initialize a new note.\n",
    "        \n",
    "        :param content: The text content of the note.\n",
    "        \"\"\"\n",
    "        self.content = content  # Store the note content\n",
    "        self.created_at = datetime.now()  # Store the creation timestamp\n",
    "\n",
    "    def display(self):\n",
    "        \"\"\"\n",
    "        Display the note details.\n",
    "        \"\"\"\n",
    "        print(f\"Content: {self.content}\")\n",
    "        print(f\"Created At: {self.created_at.strftime('%Y-%m-%d %H:%M:%S')}\")\n"
   ]
  },
  {
   "cell_type": "code",
   "execution_count": 36,
   "id": "0f120f14-f689-40f2-9ee0-5615614cfef0",
   "metadata": {},
   "outputs": [],
   "source": [
    "# Step 2: Create specialized classes that inherit all the features of Note.\n",
    "class TextNote(Note):\n",
    "    def __init__(self, content):\n",
    "        \"\"\"\n",
    "        Initialize a text-based note.\n",
    "        \n",
    "        :param content: The text content of the note.\n",
    "        \"\"\"\n",
    "        super().__init__(content)  # Call the parent class constructor\n",
    "\n",
    "    def display(self):\n",
    "        \"\"\"\n",
    "        Override the display method to show text note details.\n",
    "        \"\"\"\n",
    "        print(\"=== Text Note ===\")\n",
    "        super().display()  # Call the parent class display method\n",
    "\n"
   ]
  },
  {
   "cell_type": "code",
   "execution_count": 37,
   "id": "052181aa-01b0-4dd7-87f4-3ebb6f37e0b9",
   "metadata": {},
   "outputs": [],
   "source": [
    "class ReminderNote(Note):\n",
    "    def __init__(self, content, reminder_time):\n",
    "        \"\"\"\n",
    "        Initialize a reminder note.\n",
    "        \n",
    "        :param content: The text content of the note.\n",
    "        :param reminder_time: The reminder date and time (as a string in 'YYYY-MM-DD HH:MM:SS' format).\n",
    "        \"\"\"\n",
    "        super().__init__(content)  # Call the parent class constructor\n",
    "        self.reminder_time = datetime.strptime(reminder_time, '%Y-%m-%d %H:%M:%S')  # Convert string to datetime\n",
    "\n",
    "    def display(self):\n",
    "        \"\"\"\n",
    "        Override the display method to show reminder note details.\n",
    "        \"\"\"\n",
    "        print(\"=== Reminder Note ===\")\n",
    "        super().display()  # Call the parent class display method\n",
    "        print(f\"Reminder Time: {self.reminder_time.strftime('%Y-%m-%d %H:%M:%S')}\")"
   ]
  },
  {
   "cell_type": "code",
   "execution_count": 38,
   "id": "bee979c5-09ef-44bd-8d44-e97e74181163",
   "metadata": {},
   "outputs": [],
   "source": [
    "\n",
    "# Step 3: Implement the NotesManager class\n",
    "class NotesManager:\n",
    "    def __init__(self):\n",
    "        \"\"\"\n",
    "        Initialize the notes manager.\n",
    "        \"\"\"\n",
    "        self.notes = []  # Store all notes in a list\n",
    "        self.next_id = 1  # Assign unique IDs to notes\n",
    "\n",
    "    def add_note(self, note_type, content, reminder_time=None):\n",
    "        \"\"\"\n",
    "        Add a new note to the manager.\n",
    "        \n",
    "        :param note_type: The type of note ('text' or 'reminder').\n",
    "        :param content: The text content of the note.\n",
    "        :param reminder_time: The reminder time (only for reminder notes).\n",
    "        \"\"\"\n",
    "        if note_type == \"text\":\n",
    "            note = TextNote(content)  # Create a TextNote\n",
    "        elif note_type == \"reminder\":\n",
    "            note = ReminderNote(content, reminder_time)  # Create a ReminderNote\n",
    "        else:\n",
    "            print(\"Invalid note type. Use 'text' or 'reminder'.\")\n",
    "            return\n",
    "\n",
    "        note.id = self.next_id  # Assign a unique ID to the note\n",
    "        self.notes.append(note)  # Add the note to the list\n",
    "        self.next_id += 1  # Increment the ID counter\n",
    "        print(f\"Note added successfully with ID: {note.id}\")\n",
    "\n",
    "    def delete_note(self, note_id):\n",
    "        \"\"\"\n",
    "        Delete a note by its ID.\n",
    "        \n",
    "        :param note_id: The ID of the note to delete.\n",
    "        \"\"\"\n",
    "        for note in self.notes:\n",
    "            if note.id == note_id:\n",
    "                self.notes.remove(note)  # Remove the note from the list\n",
    "                print(f\"Note with ID {note_id} deleted successfully.\")\n",
    "                return\n",
    "        print(f\"Note with ID {note_id} not found.\")\n",
    "\n",
    "    def show_notes(self):\n",
    "        \"\"\"\n",
    "        Display all stored notes.\n",
    "        \"\"\"\n",
    "        if not self.notes:\n",
    "            print(\"No notes found.\")\n",
    "            return\n",
    "\n",
    "        for note in self.notes:\n",
    "            note.display()  # Call the display method of each note\n",
    "            print(\"-\" * 30)\n",
    "\n",
    "    \n"
   ]
  },
  {
   "cell_type": "code",
   "execution_count": 39,
   "id": "51ee5843-2b88-4d52-a731-a3ae378ac55b",
   "metadata": {},
   "outputs": [],
   "source": [
    "\n",
    "    def search_notes(self, keyword):\n",
    "        \"\"\"\n",
    "        Search for notes containing a specific keyword.\n",
    "        \n",
    "        :param keyword: The keyword to search for.\n",
    "        \"\"\"\n",
    "        found_notes = [note for note in self.notes if keyword.lower() in note.content.lower()]\n",
    "        if not found_notes:\n",
    "            print(f\"No notes found containing the keyword '{keyword}'.\")\n",
    "            return\n",
    "\n",
    "        print(f\"Found {len(found_notes)} note(s) containing the keyword '{keyword}':\")\n",
    "        for note in found_notes:\n",
    "            note.display()\n",
    "            print(\"-\" * 30)"
   ]
  },
  {
   "cell_type": "markdown",
   "id": "36266464-58d2-4567-b638-1f1d19fff320",
   "metadata": {},
   "source": [
    "# The user interface that allows you to interanct with th Notes Manager."
   ]
  },
  {
   "cell_type": "code",
   "execution_count": 42,
   "id": "f371b240-dd0d-464e-89eb-dd64fa824564",
   "metadata": {},
   "outputs": [
    {
     "name": "stdout",
     "output_type": "stream",
     "text": [
      "\n",
      "=== Smart Notes Manager ===\n",
      "1. Add a Text Note\n",
      "2. Add a Reminder Note\n",
      "3. View All Notes\n",
      "4. Search Notes\n",
      "5. Delete a Note\n",
      "0. Exit\n"
     ]
    },
    {
     "name": "stdin",
     "output_type": "stream",
     "text": [
      "Enter your choice:  3\n"
     ]
    },
    {
     "name": "stdout",
     "output_type": "stream",
     "text": [
      "No notes found.\n",
      "\n",
      "=== Smart Notes Manager ===\n",
      "1. Add a Text Note\n",
      "2. Add a Reminder Note\n",
      "3. View All Notes\n",
      "4. Search Notes\n",
      "5. Delete a Note\n",
      "0. Exit\n"
     ]
    },
    {
     "name": "stdin",
     "output_type": "stream",
     "text": [
      "Enter your choice:  1\n",
      "Enter the note content:  mom\n"
     ]
    },
    {
     "name": "stdout",
     "output_type": "stream",
     "text": [
      "Note added successfully with ID: 1\n",
      "\n",
      "=== Smart Notes Manager ===\n",
      "1. Add a Text Note\n",
      "2. Add a Reminder Note\n",
      "3. View All Notes\n",
      "4. Search Notes\n",
      "5. Delete a Note\n",
      "0. Exit\n"
     ]
    },
    {
     "name": "stdin",
     "output_type": "stream",
     "text": [
      "Enter your choice:  4\n",
      "Enter the keyword to search:  mom\n"
     ]
    },
    {
     "ename": "AttributeError",
     "evalue": "'NotesManager' object has no attribute 'search_notes'",
     "output_type": "error",
     "traceback": [
      "\u001b[1;31m---------------------------------------------------------------------------\u001b[0m",
      "\u001b[1;31mAttributeError\u001b[0m                            Traceback (most recent call last)",
      "Cell \u001b[1;32mIn[42], line 30\u001b[0m\n\u001b[0;32m     28\u001b[0m \u001b[38;5;28;01melif\u001b[39;00m choice \u001b[38;5;241m==\u001b[39m \u001b[38;5;124m\"\u001b[39m\u001b[38;5;124m4\u001b[39m\u001b[38;5;124m\"\u001b[39m:\n\u001b[0;32m     29\u001b[0m     keyword \u001b[38;5;241m=\u001b[39m \u001b[38;5;28minput\u001b[39m(\u001b[38;5;124m\"\u001b[39m\u001b[38;5;124mEnter the keyword to search: \u001b[39m\u001b[38;5;124m\"\u001b[39m)\n\u001b[1;32m---> 30\u001b[0m     manager\u001b[38;5;241m.\u001b[39msearch_notes(keyword)  \u001b[38;5;66;03m# Search for notes\u001b[39;00m\n\u001b[0;32m     32\u001b[0m \u001b[38;5;28;01melif\u001b[39;00m choice \u001b[38;5;241m==\u001b[39m \u001b[38;5;124m\"\u001b[39m\u001b[38;5;124m5\u001b[39m\u001b[38;5;124m\"\u001b[39m:\n\u001b[0;32m     33\u001b[0m     note_id \u001b[38;5;241m=\u001b[39m \u001b[38;5;28mint\u001b[39m(\u001b[38;5;28minput\u001b[39m(\u001b[38;5;124m\"\u001b[39m\u001b[38;5;124mEnter the ID of the note to delete: \u001b[39m\u001b[38;5;124m\"\u001b[39m))\n",
      "\u001b[1;31mAttributeError\u001b[0m: 'NotesManager' object has no attribute 'search_notes'"
     ]
    }
   ],
   "source": [
    "# Step 4: Main Program Execution\n",
    "if __name__ == \"__main__\":\n",
    "    manager = NotesManager()  # Create a NotesManager instance. \n",
    "\n",
    "    while True:\n",
    "        print(\"\\n=== Smart Notes Manager ===\")\n",
    "        print(\"1. Add a Text Note\")\n",
    "        print(\"2. Add a Reminder Note\")\n",
    "        print(\"3. View All Notes\")\n",
    "        print(\"4. Search Notes\")\n",
    "        print(\"5. Delete a Note\")\n",
    "        print(\"0. Exit\")\n",
    "\n",
    "        choice = input(\"Enter your choice: \")\n",
    "\n",
    "        if choice == \"1\":\n",
    "            content = input(\"Enter the note content: \")\n",
    "            manager.add_note(\"text\", content)  # Add a text note e.g your itenery\n",
    "\n",
    "        elif choice == \"2\":\n",
    "            content = input(\"Enter the note content: \")\n",
    "            reminder_time = input(\"Enter the reminder time (YYYY-MM-DD HH:MM:SS): \")\n",
    "            manager.add_note(\"reminder\", content, reminder_time)  # Add a reminder note like alarm\n",
    "\n",
    "        elif choice == \"3\":\n",
    "            manager.show_notes()  # Display all notes\n",
    "\n",
    "        elif choice == \"4\":\n",
    "            keyword = input(\"Enter the keyword to search: \")\n",
    "            manager.search_notes(keyword)  # Search for notes\n",
    "\n",
    "        elif choice == \"5\":\n",
    "            note_id = int(input(\"Enter the ID of the note to delete: \"))\n",
    "            manager.delete_note(note_id)  # Delete a note\n",
    "\n",
    "        elif choice == \"0\":\n",
    "            print(\"Exiting the Smart Notes Manager. Goodbye!\")\n",
    "            break\n",
    "\n",
    "        else:\n",
    "            print(\"Invalid choice. Please try again.\")"
   ]
  },
  {
   "cell_type": "markdown",
   "id": "f540c2e6-1762-49ef-86ce-baada1e5d304",
   "metadata": {},
   "source": [
    "How Everything Fits Together\n",
    "Creating a Note:\n",
    "\n",
    "When you add a note, the NotesManager creates either a TextNote or ReminderNote object and stores it in the notes list.\n",
    "\n",
    "Each note gets a unique ID.\n",
    "\n",
    "Displaying Notes:\n",
    "\n",
    "The display() method of each note is called to show its details.\n",
    "\n",
    "Searching Notes:\n",
    "\n",
    "The program looks through all the notes and checks if the keyword is in the content.\n",
    "\n",
    "Deleting Notes:\n",
    "\n",
    "The program finds the note with the given ID and removes it from the notes list."
   ]
  },
  {
   "cell_type": "code",
   "execution_count": null,
   "id": "42c05cb0-d05e-4398-bd26-61af7c20f9ef",
   "metadata": {},
   "outputs": [],
   "source": []
  }
 ],
 "metadata": {
  "kernelspec": {
   "display_name": "Python [conda env:base] *",
   "language": "python",
   "name": "conda-base-py"
  },
  "language_info": {
   "codemirror_mode": {
    "name": "ipython",
    "version": 3
   },
   "file_extension": ".py",
   "mimetype": "text/x-python",
   "name": "python",
   "nbconvert_exporter": "python",
   "pygments_lexer": "ipython3",
   "version": "3.12.7"
  }
 },
 "nbformat": 4,
 "nbformat_minor": 5
}
